{
 "cells": [
  {
   "cell_type": "code",
   "execution_count": 1,
   "id": "45553e2d",
   "metadata": {},
   "outputs": [],
   "source": [
    "import pandas as pd\n",
    "import numpy as np\n",
    "import pathlib\n",
    "import nltk\n",
    "import re\n",
    "from nltk.corpus import stopwords\n",
    "from nltk.stem.porter import PorterStemmer\n",
    "from nltk.stem import WordNetLemmatizer\n",
    "from sklearn.feature_extraction.text import CountVectorizer"
   ]
  },
  {
   "cell_type": "code",
   "execution_count": 2,
   "id": "be0fe83d",
   "metadata": {},
   "outputs": [
    {
     "data": {
      "text/html": [
       "<div>\n",
       "<style scoped>\n",
       "    .dataframe tbody tr th:only-of-type {\n",
       "        vertical-align: middle;\n",
       "    }\n",
       "\n",
       "    .dataframe tbody tr th {\n",
       "        vertical-align: top;\n",
       "    }\n",
       "\n",
       "    .dataframe thead th {\n",
       "        text-align: right;\n",
       "    }\n",
       "</style>\n",
       "<table border=\"1\" class=\"dataframe\">\n",
       "  <thead>\n",
       "    <tr style=\"text-align: right;\">\n",
       "      <th></th>\n",
       "      <th>label</th>\n",
       "      <th>text</th>\n",
       "    </tr>\n",
       "  </thead>\n",
       "  <tbody>\n",
       "    <tr>\n",
       "      <th>0</th>\n",
       "      <td>Psoriasis</td>\n",
       "      <td>I have been experiencing a skin rash on my arm...</td>\n",
       "    </tr>\n",
       "    <tr>\n",
       "      <th>1</th>\n",
       "      <td>Psoriasis</td>\n",
       "      <td>My skin has been peeling, especially on my kne...</td>\n",
       "    </tr>\n",
       "    <tr>\n",
       "      <th>2</th>\n",
       "      <td>Psoriasis</td>\n",
       "      <td>I have been experiencing joint pain in my fing...</td>\n",
       "    </tr>\n",
       "    <tr>\n",
       "      <th>3</th>\n",
       "      <td>Psoriasis</td>\n",
       "      <td>There is a silver like dusting on my skin, esp...</td>\n",
       "    </tr>\n",
       "    <tr>\n",
       "      <th>4</th>\n",
       "      <td>Psoriasis</td>\n",
       "      <td>My nails have small dents or pits in them, and...</td>\n",
       "    </tr>\n",
       "  </tbody>\n",
       "</table>\n",
       "</div>"
      ],
      "text/plain": [
       "       label                                               text\n",
       "0  Psoriasis  I have been experiencing a skin rash on my arm...\n",
       "1  Psoriasis  My skin has been peeling, especially on my kne...\n",
       "2  Psoriasis  I have been experiencing joint pain in my fing...\n",
       "3  Psoriasis  There is a silver like dusting on my skin, esp...\n",
       "4  Psoriasis  My nails have small dents or pits in them, and..."
      ]
     },
     "execution_count": 2,
     "metadata": {},
     "output_type": "execute_result"
    }
   ],
   "source": [
    "pd.set_option('display.max_columns', None)\n",
    "pd.set_option('display.max_rows', None)\n",
    "df=pd.read_csv(f'Symptom2Disease.csv',sep=',', encoding='utf-8', index_col=0)\n",
    "df.head()"
   ]
  },
  {
   "cell_type": "code",
   "execution_count": 3,
   "id": "fa6a907c",
   "metadata": {},
   "outputs": [
    {
     "data": {
      "text/plain": [
       "(1200, 2)"
      ]
     },
     "execution_count": 3,
     "metadata": {},
     "output_type": "execute_result"
    }
   ],
   "source": [
    "df.shape"
   ]
  },
  {
   "cell_type": "code",
   "execution_count": 4,
   "id": "f61d2068",
   "metadata": {},
   "outputs": [
    {
     "name": "stdout",
     "output_type": "stream",
     "text": [
      "<class 'pandas.core.frame.DataFrame'>\n",
      "Int64Index: 1200 entries, 0 to 299\n",
      "Data columns (total 2 columns):\n",
      " #   Column  Non-Null Count  Dtype \n",
      "---  ------  --------------  ----- \n",
      " 0   label   1200 non-null   object\n",
      " 1   text    1200 non-null   object\n",
      "dtypes: object(2)\n",
      "memory usage: 28.1+ KB\n"
     ]
    }
   ],
   "source": [
    "df.info()"
   ]
  },
  {
   "cell_type": "code",
   "execution_count": 6,
   "id": "c76842e2",
   "metadata": {},
   "outputs": [
    {
     "name": "stdout",
     "output_type": "stream",
     "text": [
      "<class 'pandas.core.series.Series'>\n",
      "object\n"
     ]
    }
   ],
   "source": [
    "print(type(df.dtypes))\n",
    "print(df.dtypes['label'])"
   ]
  },
  {
   "cell_type": "code",
   "execution_count": null,
   "id": "9f7f8311",
   "metadata": {},
   "outputs": [],
   "source": [
    "features=[]\n",
    "for column in df.columns:\n",
    "    features.append(f'{column},')\n",
    "    print(df[f'{column}'].value_counts())"
   ]
  },
  {
   "cell_type": "code",
   "execution_count": null,
   "id": "ff116591",
   "metadata": {},
   "outputs": [],
   "source": [
    "print(df[f'label'].unique())\n",
    "print(df[f'label'].value_counts()['Psoriasis'])"
   ]
  },
  {
   "cell_type": "code",
   "execution_count": null,
   "id": "517d0bf0",
   "metadata": {},
   "outputs": [],
   "source": [
    "nltk.download('stopwords')\n",
    "nltk.download('wordnet')"
   ]
  },
  {
   "cell_type": "code",
   "execution_count": null,
   "id": "26f187ac",
   "metadata": {},
   "outputs": [],
   "source": [
    "wordnet=WordNetLemmatizer()\n",
    "df['newText']=[re.sub('[^a-zA-Z]',' ',value) for value in df['text']]\n",
    "df['newText']=[value.lower() for value in df['newText']]\n",
    "df['newText']=[value.split() for value in df['newText']]\n",
    "print(df['newText'].values[0])\n",
    "print(df['text'].values[0])\n",
    "listWords=[]\n",
    "for value in df['newText']:\n",
    "    words=[wordnet.lemmatize(word) for word in value if not word in set(stopwords.words('english'))]\n",
    "    words=' '.join(listWords)\n",
    "    listWords.append(words)\n",
    "print(listWords)"
   ]
  },
  {
   "cell_type": "code",
   "execution_count": null,
   "id": "03f2b088",
   "metadata": {},
   "outputs": [],
   "source": [
    "def splitWords(df):\n",
    "    resultDf=df.copy()\n",
    "    resultDf['newText']=[re.sub('[^a-zA-Z]',' ',value) for value in resultDf['text']]\n",
    "    resultDf['newText']=[value.lower() for value in resultDf['newText']]\n",
    "    resultDf['newText']=[value.split() for value in resultDf['newText']]\n",
    "    return resultDf\n",
    "# result=splitWords(df) \n",
    "# print(result['newText'])"
   ]
  },
  {
   "cell_type": "code",
   "execution_count": null,
   "id": "da34c981",
   "metadata": {},
   "outputs": [],
   "source": [
    "def removeStopWords(df):\n",
    "    resultDf=df.copy()\n",
    "    wordnet=WorldNetLemmatizer()\n",
    "    for value in resultDf['newText']:\n",
    "        value=[wordnet.lemmatize(word) for word in value if not word in set(stopwords.words('english'))]\n",
    "    \n",
    "    resultDf['newText']=[]"
   ]
  }
 ],
 "metadata": {
  "kernelspec": {
   "display_name": "Python [conda env:.conda-datascience]",
   "language": "python",
   "name": "conda-env-.conda-datascience-py"
  },
  "language_info": {
   "codemirror_mode": {
    "name": "ipython",
    "version": 3
   },
   "file_extension": ".py",
   "mimetype": "text/x-python",
   "name": "python",
   "nbconvert_exporter": "python",
   "pygments_lexer": "ipython3",
   "version": "3.10.8"
  }
 },
 "nbformat": 4,
 "nbformat_minor": 5
}
