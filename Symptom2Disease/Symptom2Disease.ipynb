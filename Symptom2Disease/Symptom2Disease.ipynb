{
 "cells": [
  {
   "cell_type": "code",
   "execution_count": null,
   "id": "45553e2d",
   "metadata": {},
   "outputs": [],
   "source": [
    "import pandas as pd\n",
    "import numpy as np\n",
    "import pathlib\n",
    "import nltk\n",
    "import re\n",
    "from nltk.corpus import stopwords\n",
    "from nltk.stem.porter import PorterStemmer\n",
    "from nltk.stem import WordNetLemmatizer\n",
    "from sklearn.feature_extraction.text import CountVectorizer\n",
    "import sys\n",
    "sys.path.insert(0,'C:/Users/RNT9HC/Documents/repos/DataScience/decorators')\n",
    "from myDecorators import myTimer, myLog,myRetry"
   ]
  },
  {
   "cell_type": "code",
   "execution_count": null,
   "id": "be0fe83d",
   "metadata": {},
   "outputs": [],
   "source": [
    "pd.set_option('display.max_columns', None)\n",
    "pd.set_option('display.max_rows', None)\n",
    "df=pd.read_csv(f'Symptom2Disease.csv',sep=',', encoding='utf-8', index_col=0)\n",
    "df.head()"
   ]
  },
  {
   "cell_type": "code",
   "execution_count": null,
   "id": "fa6a907c",
   "metadata": {},
   "outputs": [],
   "source": [
    "df.shape"
   ]
  },
  {
   "cell_type": "code",
   "execution_count": null,
   "id": "f61d2068",
   "metadata": {},
   "outputs": [],
   "source": [
    "df.info()"
   ]
  },
  {
   "cell_type": "code",
   "execution_count": null,
   "id": "9f7f8311",
   "metadata": {},
   "outputs": [],
   "source": [
    "features=[]\n",
    "for column in df.columns:\n",
    "    features.append(f'{column},')\n",
    "    print(df[f'{column}'].value_counts())"
   ]
  },
  {
   "cell_type": "code",
   "execution_count": null,
   "id": "ff116591",
   "metadata": {},
   "outputs": [],
   "source": [
    "print(df[f'label'].unique())\n",
    "print(df[f'label'].value_counts()['Psoriasis'])"
   ]
  },
  {
   "cell_type": "code",
   "execution_count": null,
   "id": "517d0bf0",
   "metadata": {},
   "outputs": [],
   "source": [
    "nltk.download('stopwords')\n",
    "nltk.download('wordnet')"
   ]
  },
  {
   "cell_type": "code",
   "execution_count": null,
   "id": "26f187ac",
   "metadata": {},
   "outputs": [],
   "source": [
    "wordnet=WordNetLemmatizer()\n",
    "df['newText']=[re.sub('[^a-zA-Z]',' ',value) for value in df['text']]\n",
    "df['newText']=[value.lower() for value in df['newText']]\n",
    "df['newText']=[value.split() for value in df['newText']]\n",
    "print(df['newText'].values[0])\n",
    "print(df['text'].values[0])\n",
    "listWords=[]\n",
    "for value in df['newText']:\n",
    "    words=[wordnet.lemmatize(word) for word in value if not word in set(stopwords.words('english'))]\n",
    "    words=' '.join(listWords)\n",
    "    listWords.append(words)\n",
    "print(listWords)"
   ]
  },
  {
   "cell_type": "code",
   "execution_count": null,
   "id": "03f2b088",
   "metadata": {},
   "outputs": [],
   "source": [
    "@myTimer\n",
    "def splitWords(df):\n",
    "    resultDf=df.copy()\n",
    "    resultDf['newText']=[re.sub('[^a-zA-Z]',' ',value) for value in resultDf['text']]\n",
    "    resultDf['newText']=[value.lower() for value in resultDf['newText']]\n",
    "    resultDf['newText']=[value.split() for value in resultDf['newText']]\n",
    "    return resultDf\n",
    "result=splitWords(df) \n",
    "# print(result['newText'])"
   ]
  },
  {
   "cell_type": "code",
   "execution_count": null,
   "id": "da34c981",
   "metadata": {},
   "outputs": [],
   "source": [
    "@myTimer\n",
    "def removeStopWords(df):\n",
    "    resultDf=df.copy()\n",
    "    wordnet=WorldNetLemmatizer()\n",
    "    for value in resultDf['newText']:\n",
    "        value=[wordnet.lemmatize(word) for word in value if not word in set(stopwords.words('english'))]\n",
    "    \n",
    "    resultDf['newText']=[]"
   ]
  }
 ],
 "metadata": {
  "kernelspec": {
   "display_name": "Python 3",
   "language": "python",
   "name": "python3"
  },
  "language_info": {
   "codemirror_mode": {
    "name": "ipython",
    "version": 3
   },
   "file_extension": ".py",
   "mimetype": "text/x-python",
   "name": "python",
   "nbconvert_exporter": "python",
   "pygments_lexer": "ipython3",
   "version": "3.10.8"
  }
 },
 "nbformat": 4,
 "nbformat_minor": 5
}
